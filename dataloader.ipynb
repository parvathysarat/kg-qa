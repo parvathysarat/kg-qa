{
  "nbformat": 4,
  "nbformat_minor": 0,
  "metadata": {
    "colab": {
      "name": "dataloader.ipynb",
      "provenance": [],
      "authorship_tag": "ABX9TyPQMtBUH7cNfghTJ5ZhTVrv",
      "include_colab_link": true
    },
    "kernelspec": {
      "name": "python3",
      "display_name": "Python 3"
    }
  },
  "cells": [
    {
      "cell_type": "markdown",
      "metadata": {
        "id": "view-in-github",
        "colab_type": "text"
      },
      "source": [
        "<a href=\"https://colab.research.google.com/github/parvathysarat/kg-qa/blob/master/dataloader.ipynb\" target=\"_parent\"><img src=\"https://colab.research.google.com/assets/colab-badge.svg\" alt=\"Open In Colab\"/></a>"
      ]
    },
    {
      "cell_type": "code",
      "metadata": {
        "id": "DcIYFJJ-EUs-",
        "colab_type": "code",
        "colab": {}
      },
      "source": [
        "class DataLoader():\n",
        "  def __init__(self, documents,data, doc_entity_index, all_doc_texts, vocab_ids, relation_ids, entity_ids):\n",
        "    self.documents = documents\n",
        "    self.doc_entity_index = doc_entity_index \n",
        "    self.all_doc_texts = all_doc_texts \n",
        "    self.vocab_ids = vocab_ids\n",
        "    self.relation_ids = relation_ids\n",
        "    self.entity_ids = entity_ids\n",
        "    self.ids_entity = {id:entity for entity, id in entity_ids.items()}\n",
        "    self.data = []\n",
        "    self.max_rel_doc, self.max_facts = 0,0\n",
        "    with open(data) as f:\n",
        "      for line in f:\n",
        "        line = json.loads(line)\n",
        "        self.data.append(line)\n",
        "        self.max_rel_doc = max(self.max_rel_doc, len(line['passages']))\n",
        "        self.max_facts = max(self.max_facts, 2*len(line['docs']['tuples']))\n",
        "    self.num_data = len(self.data)\n",
        "    self.batches = np.arange(self.num_data)\n",
        "    \n",
        "\n",
        "\n",
        "\n",
        "\n"
      ],
      "execution_count": 0,
      "outputs": []
    }
  ]
}