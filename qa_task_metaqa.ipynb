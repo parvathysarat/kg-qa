{
  "nbformat": 4,
  "nbformat_minor": 0,
  "metadata": {
    "colab": {
      "name": "qa_task_metaqa.ipynb",
      "provenance": [],
      "collapsed_sections": [],
      "authorship_tag": "ABX9TyOcfn0h1vdhUHDsXXqFEfMh",
      "include_colab_link": true
    },
    "kernelspec": {
      "name": "python3",
      "display_name": "Python 3"
    }
  },
  "cells": [
    {
      "cell_type": "markdown",
      "metadata": {
        "id": "view-in-github",
        "colab_type": "text"
      },
      "source": [
        "<a href=\"https://colab.research.google.com/github/parvathysarat/kg-qa/blob/master/qa_task_metaqa.ipynb\" target=\"_parent\"><img src=\"https://colab.research.google.com/assets/colab-badge.svg\" alt=\"Open In Colab\"/></a>"
      ]
    },
    {
      "cell_type": "markdown",
      "metadata": {
        "id": "aCRC0sIwYVHZ",
        "colab_type": "text"
      },
      "source": [
        "Size of our transG embeddings : 50 (both entities and relations)\n",
        "\n",
        "(contains : \n",
        "- utility functions to get entities, relations, documents from MetaQA processed files\n",
        "- training functions\n",
        "- embedding functions\n",
        "- main\n",
        "<br> Needs to be split into util, training and main files. Also need to add config file with specifications)."
      ]
    },
    {
      "cell_type": "code",
      "metadata": {
        "id": "rzRsTFNQh-DV",
        "colab_type": "code",
        "colab": {}
      },
      "source": [
        "import numpy as np\n",
        "import torch\n",
        "import torch.nn as nn\n",
        "from torch.autograd import Variable\n",
        "import torch.optim as optim\n",
        "import os\n",
        "import time, datetime\n",
        "import sys\n",
        "import json\n",
        "from tqdm import tqdm\n",
        "os.chdir('./kg-qa/')\n",
        "from dataloader import DataLoader\n",
        "from questionanswering import QuestionAnswering"
      ],
      "execution_count": 0,
      "outputs": []
    },
    {
      "cell_type": "code",
      "metadata": {
        "id": "AYox1XsCTpyK",
        "colab_type": "code",
        "colab": {}
      },
      "source": [
        "# !git clone https://github.com/parvathysarat/kg-qa\n",
        "# ./kg-qa/data/transg/ has the embeddings obtained by TransG for MetaQA dataset"
      ],
      "execution_count": 0,
      "outputs": []
    },
    {
      "cell_type": "code",
      "metadata": {
        "id": "GZqYMyp9W5jp",
        "colab_type": "code",
        "colab": {}
      },
      "source": [
        "os.chdir('./data/transG/')"
      ],
      "execution_count": 0,
      "outputs": []
    },
    {
      "cell_type": "markdown",
      "metadata": {
        "id": "vRVc0yyLgA7O",
        "colab_type": "text"
      },
      "source": [
        "### Loading MetaQA datasets - entities, relations"
      ]
    },
    {
      "cell_type": "code",
      "metadata": {
        "id": "UpBbREXgX8PZ",
        "colab_type": "code",
        "colab": {}
      },
      "source": [
        "import glob\n",
        "import shutil\n",
        "for file in glob.glob('./kg-qa/data/*.txt'):\n",
        "  shutil.move(file,'./kg-qa/data/transg/')"
      ],
      "execution_count": 0,
      "outputs": []
    },
    {
      "cell_type": "code",
      "metadata": {
        "id": "6m4GwmKLsASk",
        "colab_type": "code",
        "outputId": "b1b97219-72d8-4758-a2c8-68fccc573adf",
        "colab": {
          "base_uri": "https://localhost:8080/",
          "height": 50
        }
      },
      "source": [
        "# entities.txt from MetaQa : list of entities\n",
        "\n",
        "def get_entities_relns():\n",
        "  with open('../MetaQA/entities.txt') as f:\n",
        "    entities = {id:line.strip() for id,line in enumerate(f)}\n",
        "    print(len(entities),entities[0])\n",
        "  with open('../MetaQA/relations.txt') as f:\n",
        "    relations = {id:line.strip() for id,line in enumerate(f)}\n",
        "    print(len(relations),relations[0])\n",
        "    return entities, relations    \n",
        "  \n",
        "entities, relations = get_entities_relns()"
      ],
      "execution_count": 5,
      "outputs": [
        {
          "output_type": "stream",
          "text": [
            "43234 Kismet\n",
            "9 has_imdb_rating\n"
          ],
          "name": "stdout"
        }
      ]
    },
    {
      "cell_type": "markdown",
      "metadata": {
        "id": "wYsP6TcKgHlg",
        "colab_type": "text"
      },
      "source": [
        "### Loading pretrained entity weights (transG) for MetaQA"
      ]
    },
    {
      "cell_type": "code",
      "metadata": {
        "id": "AAp61DouYBYK",
        "colab_type": "code",
        "colab": {}
      },
      "source": [
        "# entity.txt storing TransG embeddings of MetaQA\n",
        "\n",
        "def get_num_entity(param='num'):\n",
        "   with open('entity.txt') as f:\n",
        "    if param=='num':\n",
        "      return sum([1 for line in f])\n",
        "    if param=='weights':\n",
        "      arr = []\n",
        "      weights_dict = {}\n",
        "      ct=0\n",
        "      for line in f:\n",
        "        entity = entities[ct]\n",
        "        ct+=1\n",
        "        for idx,el in enumerate(line.split()):\n",
        "          # numeric entities are not vectorized\n",
        "          if el.isnumeric() and idx==0: \n",
        "            continue\n",
        "\n",
        "          if (' '.join(line.split()[:idx]))==entity:\n",
        "            arr.append(np.array(line.split()[idx:],dtype=np.float32))\n",
        "            weights_dict[entity] = np.array(line.split()[idx:],dtype=np.float32)\n",
        "            break\n",
        "      print(len(weights_dict),ct)\n",
        "    pretrained_weights = torch.FloatTensor(arr)  \n",
        "    return weights_dict, pretrained_weights\n",
        "num_entities = get_num_entity()"
      ],
      "execution_count": 0,
      "outputs": []
    },
    {
      "cell_type": "code",
      "metadata": {
        "id": "x8sFJIZ5gQAU",
        "colab_type": "code",
        "outputId": "65e55837-c622-435a-8b38-1f524c64fff6",
        "colab": {
          "base_uri": "https://localhost:8080/",
          "height": 67
        }
      },
      "source": [
        "num_entities = get_num_entity()\n",
        "print(len(entities))\n",
        "entity_weights_dict, pretrained_entity_weights = get_num_entity('weights')\n",
        "print(pretrained_entity_weights.shape[0])"
      ],
      "execution_count": 7,
      "outputs": [
        {
          "output_type": "stream",
          "text": [
            "43234\n",
            "43233 43234\n",
            "43233\n"
          ],
          "name": "stdout"
        }
      ]
    },
    {
      "cell_type": "markdown",
      "metadata": {
        "id": "nNbDy-XYgPfP",
        "colab_type": "text"
      },
      "source": [
        "###Store pretrained weights to embedding vectors"
      ]
    },
    {
      "cell_type": "code",
      "metadata": {
        "id": "Opl7WYWljrIJ",
        "colab_type": "code",
        "colab": {}
      },
      "source": [
        "def initialize_embeddings(pretrained_weights):\n",
        "  embeddings = nn.Embedding(num_embeddings= pretrained_weights.shape[0] + 1, embedding_dim=50, padding_idx=pretrained_weights.shape[0])\n",
        "  embeddings.weight = nn.Parameter(pretrained_weights)  \n",
        "  # entity_embeddings = nn.Embedding(num_embeddings=num_entities+1, embedding_dim=50,padding_idx=num_entities)\n",
        "  # entity_embeddings.weight = nn.Parameter(get_num_entity('weights'))\n",
        "  embeddings.weight.requires_grad = False  \n",
        "  return embeddings\n",
        "\n",
        "# entity_embeddings = initialize_embeddings(pretrained_entity_weights)"
      ],
      "execution_count": 0,
      "outputs": []
    },
    {
      "cell_type": "code",
      "metadata": {
        "id": "r83DPFNQyl1h",
        "colab_type": "code",
        "colab": {}
      },
      "source": [
        "\n",
        "# entity_embeddings"
      ],
      "execution_count": 0,
      "outputs": []
    },
    {
      "cell_type": "markdown",
      "metadata": {
        "id": "7fNDG3FXggkK",
        "colab_type": "text"
      },
      "source": [
        "### Loading pretrained relation weights"
      ]
    },
    {
      "cell_type": "code",
      "metadata": {
        "id": "llPzkMmuzRib",
        "colab_type": "code",
        "colab": {}
      },
      "source": [
        "# function to return the cluster number for each relation\n",
        "# (n_cluster # of embeddings for each relation from TransG based on GMM)\n",
        "\n",
        "def get_relations_clust():\n",
        "  relations_cluster = {}\n",
        "  with open('weight.txt') as f:\n",
        "    for line in f:\n",
        "      relations_cluster[line.split()[0]] = np.argmax(np.array(line.split()[1:], dtype = np.float32))\n",
        "  return relations_cluster\n",
        "\n",
        "rel_clusters = get_relations_clust()"
      ],
      "execution_count": 0,
      "outputs": []
    },
    {
      "cell_type": "markdown",
      "metadata": {
        "id": "AkXFDoFsg2jm",
        "colab_type": "text"
      },
      "source": [
        "(transG uses GMM model hence relations have a mixture of embedding vectors to represent multiple semantic relations, weights of each mixture/cluster stored in weights.txt, loaded into rel_clusters. Here we have used num_clusters=4)"
      ]
    },
    {
      "cell_type": "code",
      "metadata": {
        "id": "mo4VAGAZDYi8",
        "colab_type": "code",
        "outputId": "6e799d1e-3e4b-4dab-e6a5-59b2c6ddfb39",
        "colab": {
          "base_uri": "https://localhost:8080/",
          "height": 168
        }
      },
      "source": [
        "rel_clusters"
      ],
      "execution_count": 11,
      "outputs": [
        {
          "output_type": "execute_result",
          "data": {
            "text/plain": [
              "{'directed_by': 2,\n",
              " 'has_genre': 3,\n",
              " 'has_imdb_rating': 3,\n",
              " 'has_imdb_votes': 3,\n",
              " 'has_tags': 3,\n",
              " 'in_language': 2,\n",
              " 'release_year': 3,\n",
              " 'starred_actors': 2,\n",
              " 'written_by': 2}"
            ]
          },
          "metadata": {
            "tags": []
          },
          "execution_count": 11
        }
      ]
    },
    {
      "cell_type": "code",
      "metadata": {
        "id": "ptgBoI6_Dma1",
        "colab_type": "code",
        "colab": {}
      },
      "source": [
        "def get_rel_embeddings(relation):\n",
        "  with open('relation_'+relation+'.txt') as f:\n",
        "    for line in f:\n",
        "      if int(line[0])==rel_clusters[relation]:\n",
        "        return np.array(line.split()[1:],dtype=np.float32)\n",
        "\n",
        "rel_weights_dict= {}\n",
        "pretrained_relation_weights = []\n",
        "for rel in rel_clusters:\n",
        "  rel_weights_dict[rel] = get_rel_embeddings(rel)\n",
        "  pretrained_relation_weights.append(rel_weights_dict[rel])\n",
        "\n",
        "pretrained_relation_weights = torch.FloatTensor(pretrained_relation_weights)  "
      ],
      "execution_count": 0,
      "outputs": []
    },
    {
      "cell_type": "code",
      "metadata": {
        "id": "xCuKACBJI5rY",
        "colab_type": "code",
        "colab": {}
      },
      "source": [
        "relation_embeddings = initialize_embeddings(pretrained_relation_weights)"
      ],
      "execution_count": 0,
      "outputs": []
    },
    {
      "cell_type": "code",
      "metadata": {
        "id": "-GeKANMVJGIX",
        "colab_type": "code",
        "colab": {}
      },
      "source": [
        "# print(entity_embeddings,relation_embeddings)"
      ],
      "execution_count": 0,
      "outputs": []
    },
    {
      "cell_type": "markdown",
      "metadata": {
        "id": "ISXlyIFAllLb",
        "colab_type": "text"
      },
      "source": [
        "Mapping vocabulary, entities and relations to ids. \n",
        "dicts of {value:id} format"
      ]
    },
    {
      "cell_type": "code",
      "metadata": {
        "id": "tFFydLsjKW2f",
        "colab_type": "code",
        "colab": {}
      },
      "source": [
        "def map_ids(file):\n",
        "  id_map = {}\n",
        "  with open('../MetaQA/'+file+'.txt') as f:\n",
        "    for line in f:\n",
        "      id_map[line.strip()] = len(id_map)\n",
        "  return id_map\n",
        "\n",
        "vocab_ids = map_ids('vocab')\n",
        "relation_ids = map_ids('relations')\n",
        "entity_ids = map_ids('entities')"
      ],
      "execution_count": 0,
      "outputs": []
    },
    {
      "cell_type": "code",
      "metadata": {
        "id": "_04dxdk5iI-W",
        "colab_type": "code",
        "colab": {
          "base_uri": "https://localhost:8080/",
          "height": 50
        },
        "outputId": "8eeddc62-fe09-412d-884d-66443fda3a0f"
      },
      "source": [
        "import nltk\n",
        "nltk.download('punkt')\n",
        "from nltk import word_tokenize\n",
        "from pprint import pprint\n",
        "\n",
        "def map_documents(file):\n",
        "\n",
        "  # first get the json into documents dict\n",
        "\n",
        "  documents = {}\n",
        "  with open(file,encoding='utf-8') as f:\n",
        "    for line in f:\n",
        "      line = json.loads(line)\n",
        "      documents[line['documentId']] = line\n",
        "      documents[line['documentId']]['tokens'] = word_tokenize(line['document']['text'])\n",
        "      if 'title' in line:\n",
        "        documents[line['documentId']]['tokens'] += [\"/\"] + word_tokenize(line['title']['text'])\n",
        "\n",
        "  # index the docs by entities, start, stop etc.\n",
        "  return documents\n",
        "\n",
        "# documents = map_documents('../MetaQA/documents.json')\n",
        "\n"
      ],
      "execution_count": 16,
      "outputs": [
        {
          "output_type": "stream",
          "text": [
            "[nltk_data] Downloading package punkt to /root/nltk_data...\n",
            "[nltk_data]   Package punkt is already up-to-date!\n"
          ],
          "name": "stdout"
        }
      ]
    },
    {
      "cell_type": "code",
      "metadata": {
        "id": "qI0EjyUKntW_",
        "colab_type": "code",
        "colab": {}
      },
      "source": [
        "def index_doc_entities(documents):\n",
        "  doc_entity_index = {}\n",
        "  all_doc_texts = {}\n",
        "  all_doc_texts[-1] = np.full(40, len(vocab_ids), dtype=int)\n",
        "  for id, doc in documents.items():\n",
        "    word_ids, entity_ids_global = [],[]\n",
        "    word_weights = []\n",
        "    if 'title' in doc:\n",
        "      for ent in doc['title']['entities'] : \n",
        "        # get number of words (ent['start'] = start word #, ent['end'] = end word #)\n",
        "        len_entity = ent['end'] - ent['start']\n",
        "        # entity id\n",
        "        entity_ids_global.extend([entity_ids[ent['text']]]*len_entity)\n",
        "\n",
        "        word_ids.extend(range(ent['start'],ent['end']))\n",
        "        # word weight = 1/(# of words)\n",
        "        word_weights.extend([1.0/len_entity]*len_entity)\n",
        "      len_title = len(word_tokenize(doc['title']['text']))      \n",
        "    else:\n",
        "      len_title = 0\n",
        "    for ent in doc['document']['entities']:\n",
        "      # capping at 40 tokens\n",
        "      if ent['start'] + len_title+1 >= 40: continue\n",
        "      len_entity = min(40, ent['end']+ len_title+1) - (ent['start']+len_title+1)\n",
        "      entity_ids_global.extend([entity_ids[ent['text']]]*len_entity)\n",
        "      word_ids.extend(range(ent['start']+len_title+1, ent['start']+len_entity+len_title+1))\n",
        "      if len_entity!=0: \n",
        "        word_weights.extend([1.0/len_entity]*len_entity)\n",
        "      \n",
        "    if len(word_weights)!=len(word_ids):\n",
        "      print(len(word_weights),len(word_ids))\n",
        "      raise ValueError(\"Lengths of weights and id's do not match!\") \n",
        "    doc_entity_index[id] = (entity_ids_global,word_ids,word_weights)\n",
        "\n",
        "    each_doc = np.full(40, len(vocab_ids),dtype=int)\n",
        "    for ind, word in enumerate(doc['tokens']):\n",
        "      if ind < 40:\n",
        "        if word in vocab_ids:\n",
        "          each_doc[ind] = vocab_ids[word]\n",
        "        else: each_doc[ind] = vocab_ids['__unk__']\n",
        "\n",
        "    all_doc_texts[id] = each_doc\n",
        "\n",
        "  return doc_entity_index,all_doc_texts\n",
        "\n",
        "# doc_entity_index== ([list of entity ids x #words in entity],[list of entity positions in text],[list of entity weights x #words in entity]\n",
        "\n",
        "# doc_entity_index, all_doc_texts = index_doc_entities(documents)"
      ],
      "execution_count": 0,
      "outputs": []
    },
    {
      "cell_type": "code",
      "metadata": {
        "id": "JXwPe4Ca-55W",
        "colab_type": "code",
        "colab": {}
      },
      "source": [
        "# assert (len(all_doc_texts.keys())-1) == len(documents)== len(doc_entity_index)"
      ],
      "execution_count": 0,
      "outputs": []
    },
    {
      "cell_type": "code",
      "metadata": {
        "id": "JSu8Eb3gCs1O",
        "colab_type": "code",
        "colab": {}
      },
      "source": [
        "# all_doc_texts[0],documents[0],doc_entity_index[0]"
      ],
      "execution_count": 0,
      "outputs": []
    },
    {
      "cell_type": "code",
      "metadata": {
        "id": "O-N7LgdGq8ES",
        "colab_type": "code",
        "colab": {}
      },
      "source": [
        "# len(vocab_ids)"
      ],
      "execution_count": 0,
      "outputs": []
    },
    {
      "cell_type": "code",
      "metadata": {
        "id": "lZuoFGik8pGF",
        "colab_type": "code",
        "colab": {}
      },
      "source": [
        "def use_cuda(var):\n",
        "    if torch.cuda.is_available():\n",
        "        return var.cuda()\n",
        "    else:\n",
        "        return var"
      ],
      "execution_count": 0,
      "outputs": []
    },
    {
      "cell_type": "code",
      "metadata": {
        "id": "QFPzs9qoM0ah",
        "colab_type": "code",
        "colab": {}
      },
      "source": [
        "def get_model(pretrained_entity_weights,pretrained_relation_weights, num_entities):\n",
        "  qa_model = use_cuda(QuestionAnswering(pretrained_entity_weights, pretrained_relation_weights, num_word = len(vocab_ids), num_entity = num_entities))\n",
        "  ## load model state if previous state exists\n",
        "  # if \"../../model/best_model_doc\" is not None:\n",
        "  #   pretrained_model_states = torch.load(\"./model/best_model_doc\")\n",
        "  #   del pretrained_model_states['entity_embedding.weight']\n",
        "  #   qa_model.load_state_dict(pretrained_model_states,strict=False)\n",
        "\n",
        "  return qa_model"
      ],
      "execution_count": 0,
      "outputs": []
    },
    {
      "cell_type": "code",
      "metadata": {
        "id": "JQFXZVIgAklf",
        "colab_type": "code",
        "colab": {}
      },
      "source": [
        "# os.chdir('./data/transg/')"
      ],
      "execution_count": 0,
      "outputs": []
    },
    {
      "cell_type": "code",
      "metadata": {
        "id": "QmXMhwrN_W7g",
        "colab_type": "code",
        "colab": {
          "base_uri": "https://localhost:8080/",
          "height": 353
        },
        "outputId": "daf83083-4f1e-4263-ca16-1a3c14fee056"
      },
      "source": [
        "# def train():\n",
        "\n",
        "entities, relations = get_entities_relns()\n",
        "num_entities = get_num_entity()\n",
        "entity_weights_dict, pretrained_entity_weights = get_num_entity('weights')  \n",
        "entity_embeddings = initialize_embeddings(pretrained_entity_weights)  \n",
        "rel_clusters = get_relations_clust()  \n",
        "rel_weights_dict= {}\n",
        "pretrained_relation_weights = []\n",
        "for rel in rel_clusters:\n",
        "  rel_weights_dict[rel] = get_rel_embeddings(rel)\n",
        "  pretrained_relation_weights.append(rel_weights_dict[rel])\n",
        "\n",
        "pretrained_relation_weights = torch.FloatTensor(pretrained_relation_weights)  \n",
        "vocab_ids = map_ids('vocab')\n",
        "relation_ids = map_ids('relations')\n",
        "entity_ids = map_ids('entities')\n",
        "os.chdir('../../')\n",
        "documents = map_documents('./data/MetaQA/documents.json')\n",
        "doc_entity_index, all_doc_texts = index_doc_entities(documents)\n",
        "assert (len(all_doc_texts.keys())-1) == len(documents)== len(doc_entity_index)\n",
        "train_json = './data/MetaQA/train.json'\n",
        "#   (documents,data, doc_entity_index, all_doc_texts, vocab_ids, relation_ids, entity_ids):\n",
        "train_data = DataLoader(documents, train_json, doc_entity_index, all_doc_texts,vocab_ids, relation_ids, entity_ids)\n",
        "\n",
        "# Generators\n",
        "  \n",
        "# test_documents = documents\n",
        "# test_doc_entity_index = doc_entity_index\n",
        "# test_all_doc_text = all_doc_texts\n",
        "\n",
        "#creating model\n",
        "qa_model = get_model(pretrained_entity_weights,pretrained_relation_weights, num_entities)\n",
        "train_params = [param for param in qa_model.parameters() if param.requires_grad]\n",
        "# optimizer\n",
        "# learning rate 0.01 preliminary expt\n",
        "optimizer = torch.optim.Adam(train_params, lr=0.01)\n",
        "\n",
        "best_dev_acc = 0.0\n",
        "num_epochs = 5\n"
      ],
      "execution_count": 24,
      "outputs": [
        {
          "output_type": "stream",
          "text": [
            "43234 Kismet\n",
            "9 has_imdb_rating\n",
            "43233 43234\n",
            "10000\n",
            "Data  10000\n"
          ],
          "name": "stdout"
        },
        {
          "output_type": "stream",
          "text": [
            "  2%|▏         | 180/10000 [00:00<00:05, 1789.62it/s]"
          ],
          "name": "stderr"
        },
        {
          "output_type": "stream",
          "text": [
            "Max facts 124\n",
            "KB relation 9\n",
            "Local entities (10000, 600)\n",
            "KB fact rels size (10000, 124)\n",
            "0\n"
          ],
          "name": "stdout"
        },
        {
          "output_type": "stream",
          "text": [
            " 13%|█▎        | 1338/10000 [00:00<00:04, 1764.11it/s]"
          ],
          "name": "stderr"
        },
        {
          "output_type": "stream",
          "text": [
            "1000\n"
          ],
          "name": "stdout"
        },
        {
          "output_type": "stream",
          "text": [
            " 23%|██▎       | 2308/10000 [00:01<00:04, 1912.52it/s]"
          ],
          "name": "stderr"
        },
        {
          "output_type": "stream",
          "text": [
            "2000\n"
          ],
          "name": "stdout"
        },
        {
          "output_type": "stream",
          "text": [
            " 33%|███▎      | 3290/10000 [00:01<00:03, 1865.36it/s]"
          ],
          "name": "stderr"
        },
        {
          "output_type": "stream",
          "text": [
            "3000\n"
          ],
          "name": "stdout"
        },
        {
          "output_type": "stream",
          "text": [
            " 43%|████▎     | 4262/10000 [00:02<00:03, 1879.02it/s]"
          ],
          "name": "stderr"
        },
        {
          "output_type": "stream",
          "text": [
            "4000\n"
          ],
          "name": "stdout"
        },
        {
          "output_type": "stream",
          "text": [
            " 52%|█████▏    | 5213/10000 [00:02<00:02, 1801.49it/s]"
          ],
          "name": "stderr"
        },
        {
          "output_type": "stream",
          "text": [
            "5000\n"
          ],
          "name": "stdout"
        },
        {
          "output_type": "stream",
          "text": [
            " 64%|██████▍   | 6410/10000 [00:03<00:01, 1869.70it/s]"
          ],
          "name": "stderr"
        },
        {
          "output_type": "stream",
          "text": [
            "6000\n"
          ],
          "name": "stdout"
        },
        {
          "output_type": "stream",
          "text": [
            " 74%|███████▍  | 7381/10000 [00:04<00:01, 1793.42it/s]"
          ],
          "name": "stderr"
        },
        {
          "output_type": "stream",
          "text": [
            "7000\n"
          ],
          "name": "stdout"
        },
        {
          "output_type": "stream",
          "text": [
            " 84%|████████▍ | 8394/10000 [00:04<00:00, 1798.59it/s]"
          ],
          "name": "stderr"
        },
        {
          "output_type": "stream",
          "text": [
            "8000\n"
          ],
          "name": "stdout"
        },
        {
          "output_type": "stream",
          "text": [
            " 94%|█████████▍| 9381/10000 [00:05<00:00, 1967.25it/s]"
          ],
          "name": "stderr"
        },
        {
          "output_type": "stream",
          "text": [
            "9000\n"
          ],
          "name": "stdout"
        },
        {
          "output_type": "stream",
          "text": [
            "100%|██████████| 10000/10000 [00:05<00:00, 1848.44it/s]\n"
          ],
          "name": "stderr"
        }
      ]
    },
    {
      "cell_type": "code",
      "metadata": {
        "id": "5m2KyA7LGPq4",
        "colab_type": "code",
        "colab": {
          "base_uri": "https://localhost:8080/",
          "height": 575
        },
        "outputId": "4791cd1d-6dc0-44c8-efc7-b01d7555901f"
      },
      "source": [
        "num_epochs = 3\n",
        "for epoch in range(num_epochs): \n",
        "  print(\"Epoch \",epoch)\n",
        "  train_data.reset_batches(is_sequential=False)\n",
        "\n",
        "  qa_model.train()\n",
        "  train_loss, train_accuracy, train_max_accuracy = [],[],[]\n",
        "  batch_size = 50\n",
        "  print(train_data.num_data,train_data.num_data//batch_size)\n",
        "  for iteration in tqdm(range(train_data.num_data//batch_size)):\n",
        "    # get batch\n",
        "    batch = train_data.get_batch(iteration, batch_size, fact_dropout = False)\n",
        "    loss, pred, _ = qa_model(batch)\n",
        "    pred = pred.data.cpu().numpy()\n",
        "    # save accuracies\n",
        "    acc, max_acc = accuracy(pred,batch[-1])\n",
        "    train_loss.append(loss.data[0])\n",
        "    train_accuracy.append(acc)\n",
        "    train_max_accuracy.append(max_acc)\n",
        "\n",
        "    #back propagation\n",
        "    qa_model.zero_grad()\n",
        "    optimizer.zero_grad()\n",
        "    loss.backward()\n",
        "    \n",
        "    # clip gradient\n",
        "    torch.nn.utils.clip_grad_norm(qa_model.parameters(),1)\n",
        "    optimizer.step()\n",
        "  \n",
        "  print(\"Avg train loss :\", sum(train_loss)/len(train_loss))\n",
        "  print(\"Max train accuracy :\", sum(train_max_accuracy)/len(train_max_accuracy))\n",
        "  print(\"Avg training accuracy :\", sum(train_accuracy)/len(train_accuracy))\n",
        "\n",
        "  save_path = \"./model/best_model_doc\"\n",
        "  print(\"Saving model to \",save_path)\n",
        "  torch.save(qa_model.state_dict(), save_path)\n",
        "\n",
        "    # return train_accuracy\n",
        "\n",
        "# if __name__ == \"__main__\":\n",
        "  # train()\n",
        "\n"
      ],
      "execution_count": 25,
      "outputs": [
        {
          "output_type": "stream",
          "text": [
            "\r  0%|          | 0/200 [00:00<?, ?it/s]/pytorch/torch/csrc/autograd/python_function.cpp:622: UserWarning: Legacy autograd function with non-static forward method is deprecated and will be removed in 1.3. Please use new-style autograd function with static forward method. (Example: https://pytorch.org/docs/stable/autograd.html#torch.autograd.Function)\n"
          ],
          "name": "stderr"
        },
        {
          "output_type": "stream",
          "text": [
            "Epoch  0\n",
            "10000 200\n",
            "Padding 13545\n",
            "124 torch.Size([50, 124]) torch.Size([50, 124])\n",
            "Padding 9\n",
            "After flatten torch.Size([50, 124, 100])\n",
            "Padding 13545\n"
          ],
          "name": "stdout"
        },
        {
          "output_type": "stream",
          "text": [
            "\r  0%|          | 0/200 [00:01<?, ?it/s]"
          ],
          "name": "stderr"
        },
        {
          "output_type": "stream",
          "text": [
            "torch.Size([50, 600]) Embedding(43234, 50, padding_idx=43233)\n",
            "Padding 43233\n"
          ],
          "name": "stdout"
        },
        {
          "output_type": "stream",
          "text": [
            "\n"
          ],
          "name": "stderr"
        },
        {
          "output_type": "error",
          "ename": "AssertionError",
          "evalue": "ignored",
          "traceback": [
            "\u001b[0;31m---------------------------------------------------------------------------\u001b[0m",
            "\u001b[0;31mAssertionError\u001b[0m                            Traceback (most recent call last)",
            "\u001b[0;32m<ipython-input-25-39690c1c5a0d>\u001b[0m in \u001b[0;36m<module>\u001b[0;34m()\u001b[0m\n\u001b[1;32m     11\u001b[0m     \u001b[0;31m# get batch\u001b[0m\u001b[0;34m\u001b[0m\u001b[0;34m\u001b[0m\u001b[0;34m\u001b[0m\u001b[0m\n\u001b[1;32m     12\u001b[0m     \u001b[0mbatch\u001b[0m \u001b[0;34m=\u001b[0m \u001b[0mtrain_data\u001b[0m\u001b[0;34m.\u001b[0m\u001b[0mget_batch\u001b[0m\u001b[0;34m(\u001b[0m\u001b[0miteration\u001b[0m\u001b[0;34m,\u001b[0m \u001b[0mbatch_size\u001b[0m\u001b[0;34m,\u001b[0m \u001b[0mfact_dropout\u001b[0m \u001b[0;34m=\u001b[0m \u001b[0;32mFalse\u001b[0m\u001b[0;34m)\u001b[0m\u001b[0;34m\u001b[0m\u001b[0;34m\u001b[0m\u001b[0m\n\u001b[0;32m---> 13\u001b[0;31m     \u001b[0mloss\u001b[0m\u001b[0;34m,\u001b[0m \u001b[0mpred\u001b[0m\u001b[0;34m,\u001b[0m \u001b[0m_\u001b[0m \u001b[0;34m=\u001b[0m \u001b[0mqa_model\u001b[0m\u001b[0;34m(\u001b[0m\u001b[0mbatch\u001b[0m\u001b[0;34m)\u001b[0m\u001b[0;34m\u001b[0m\u001b[0;34m\u001b[0m\u001b[0m\n\u001b[0m\u001b[1;32m     14\u001b[0m     \u001b[0mpred\u001b[0m \u001b[0;34m=\u001b[0m \u001b[0mpred\u001b[0m\u001b[0;34m.\u001b[0m\u001b[0mdata\u001b[0m\u001b[0;34m.\u001b[0m\u001b[0mcpu\u001b[0m\u001b[0;34m(\u001b[0m\u001b[0;34m)\u001b[0m\u001b[0;34m.\u001b[0m\u001b[0mnumpy\u001b[0m\u001b[0;34m(\u001b[0m\u001b[0;34m)\u001b[0m\u001b[0;34m\u001b[0m\u001b[0;34m\u001b[0m\u001b[0m\n\u001b[1;32m     15\u001b[0m     \u001b[0;31m# save accuracies\u001b[0m\u001b[0;34m\u001b[0m\u001b[0;34m\u001b[0m\u001b[0;34m\u001b[0m\u001b[0m\n",
            "\u001b[0;32m/usr/local/lib/python3.6/dist-packages/torch/nn/modules/module.py\u001b[0m in \u001b[0;36m__call__\u001b[0;34m(self, *input, **kwargs)\u001b[0m\n\u001b[1;32m    530\u001b[0m             \u001b[0mresult\u001b[0m \u001b[0;34m=\u001b[0m \u001b[0mself\u001b[0m\u001b[0;34m.\u001b[0m\u001b[0m_slow_forward\u001b[0m\u001b[0;34m(\u001b[0m\u001b[0;34m*\u001b[0m\u001b[0minput\u001b[0m\u001b[0;34m,\u001b[0m \u001b[0;34m**\u001b[0m\u001b[0mkwargs\u001b[0m\u001b[0;34m)\u001b[0m\u001b[0;34m\u001b[0m\u001b[0;34m\u001b[0m\u001b[0m\n\u001b[1;32m    531\u001b[0m         \u001b[0;32melse\u001b[0m\u001b[0;34m:\u001b[0m\u001b[0;34m\u001b[0m\u001b[0;34m\u001b[0m\u001b[0m\n\u001b[0;32m--> 532\u001b[0;31m             \u001b[0mresult\u001b[0m \u001b[0;34m=\u001b[0m \u001b[0mself\u001b[0m\u001b[0;34m.\u001b[0m\u001b[0mforward\u001b[0m\u001b[0;34m(\u001b[0m\u001b[0;34m*\u001b[0m\u001b[0minput\u001b[0m\u001b[0;34m,\u001b[0m \u001b[0;34m**\u001b[0m\u001b[0mkwargs\u001b[0m\u001b[0;34m)\u001b[0m\u001b[0;34m\u001b[0m\u001b[0;34m\u001b[0m\u001b[0m\n\u001b[0m\u001b[1;32m    533\u001b[0m         \u001b[0;32mfor\u001b[0m \u001b[0mhook\u001b[0m \u001b[0;32min\u001b[0m \u001b[0mself\u001b[0m\u001b[0;34m.\u001b[0m\u001b[0m_forward_hooks\u001b[0m\u001b[0;34m.\u001b[0m\u001b[0mvalues\u001b[0m\u001b[0;34m(\u001b[0m\u001b[0;34m)\u001b[0m\u001b[0;34m:\u001b[0m\u001b[0;34m\u001b[0m\u001b[0;34m\u001b[0m\u001b[0m\n\u001b[1;32m    534\u001b[0m             \u001b[0mhook_result\u001b[0m \u001b[0;34m=\u001b[0m \u001b[0mhook\u001b[0m\u001b[0;34m(\u001b[0m\u001b[0mself\u001b[0m\u001b[0;34m,\u001b[0m \u001b[0minput\u001b[0m\u001b[0;34m,\u001b[0m \u001b[0mresult\u001b[0m\u001b[0;34m)\u001b[0m\u001b[0;34m\u001b[0m\u001b[0;34m\u001b[0m\u001b[0m\n",
            "\u001b[0;32m/content/kg-qa/questionanswering.py\u001b[0m in \u001b[0;36mforward\u001b[0;34m(self, batch)\u001b[0m\n\u001b[1;32m    194\u001b[0m         \u001b[0;31m# comment to unflatten\u001b[0m\u001b[0;34m\u001b[0m\u001b[0;34m\u001b[0m\u001b[0;34m\u001b[0m\u001b[0m\n\u001b[1;32m    195\u001b[0m         \u001b[0mlocal_entity\u001b[0m \u001b[0;34m=\u001b[0m \u001b[0mlocal_entity\u001b[0m\u001b[0;34m.\u001b[0m\u001b[0mview\u001b[0m\u001b[0;34m(\u001b[0m\u001b[0mlocal_entity\u001b[0m\u001b[0;34m.\u001b[0m\u001b[0msize\u001b[0m\u001b[0;34m(\u001b[0m\u001b[0;36m0\u001b[0m\u001b[0;34m)\u001b[0m\u001b[0;34m,\u001b[0m \u001b[0;34m-\u001b[0m\u001b[0;36m1\u001b[0m\u001b[0;34m)\u001b[0m\u001b[0;34m\u001b[0m\u001b[0;34m\u001b[0m\u001b[0m\n\u001b[0;32m--> 196\u001b[0;31m         \u001b[0mlocal_entity_emb\u001b[0m \u001b[0;34m=\u001b[0m \u001b[0mself\u001b[0m\u001b[0;34m.\u001b[0m\u001b[0mentity_embeddings\u001b[0m\u001b[0;34m(\u001b[0m\u001b[0mlocal_entity\u001b[0m\u001b[0;34m)\u001b[0m \u001b[0;31m# batch_size, max_local_entity, word_dim\u001b[0m\u001b[0;34m\u001b[0m\u001b[0;34m\u001b[0m\u001b[0m\n\u001b[0m\u001b[1;32m    197\u001b[0m         \u001b[0;32mif\u001b[0m \u001b[0mself\u001b[0m\u001b[0;34m.\u001b[0m\u001b[0mword_dim\u001b[0m \u001b[0;34m!=\u001b[0m \u001b[0mself\u001b[0m\u001b[0;34m.\u001b[0m\u001b[0mentity_dim\u001b[0m\u001b[0;34m:\u001b[0m\u001b[0;34m\u001b[0m\u001b[0;34m\u001b[0m\u001b[0m\n\u001b[1;32m    198\u001b[0m             \u001b[0mlocal_entity_emb\u001b[0m \u001b[0;34m=\u001b[0m \u001b[0mself\u001b[0m\u001b[0;34m.\u001b[0m\u001b[0mentity_linear\u001b[0m\u001b[0;34m(\u001b[0m\u001b[0mlocal_entity_emb\u001b[0m\u001b[0;34m)\u001b[0m \u001b[0;31m# batch_size, max_local_entity, entity_dim\u001b[0m\u001b[0;34m\u001b[0m\u001b[0;34m\u001b[0m\u001b[0m\n",
            "\u001b[0;32m/usr/local/lib/python3.6/dist-packages/torch/nn/modules/module.py\u001b[0m in \u001b[0;36m__call__\u001b[0;34m(self, *input, **kwargs)\u001b[0m\n\u001b[1;32m    530\u001b[0m             \u001b[0mresult\u001b[0m \u001b[0;34m=\u001b[0m \u001b[0mself\u001b[0m\u001b[0;34m.\u001b[0m\u001b[0m_slow_forward\u001b[0m\u001b[0;34m(\u001b[0m\u001b[0;34m*\u001b[0m\u001b[0minput\u001b[0m\u001b[0;34m,\u001b[0m \u001b[0;34m**\u001b[0m\u001b[0mkwargs\u001b[0m\u001b[0;34m)\u001b[0m\u001b[0;34m\u001b[0m\u001b[0;34m\u001b[0m\u001b[0m\n\u001b[1;32m    531\u001b[0m         \u001b[0;32melse\u001b[0m\u001b[0;34m:\u001b[0m\u001b[0;34m\u001b[0m\u001b[0;34m\u001b[0m\u001b[0m\n\u001b[0;32m--> 532\u001b[0;31m             \u001b[0mresult\u001b[0m \u001b[0;34m=\u001b[0m \u001b[0mself\u001b[0m\u001b[0;34m.\u001b[0m\u001b[0mforward\u001b[0m\u001b[0;34m(\u001b[0m\u001b[0;34m*\u001b[0m\u001b[0minput\u001b[0m\u001b[0;34m,\u001b[0m \u001b[0;34m**\u001b[0m\u001b[0mkwargs\u001b[0m\u001b[0;34m)\u001b[0m\u001b[0;34m\u001b[0m\u001b[0;34m\u001b[0m\u001b[0m\n\u001b[0m\u001b[1;32m    533\u001b[0m         \u001b[0;32mfor\u001b[0m \u001b[0mhook\u001b[0m \u001b[0;32min\u001b[0m \u001b[0mself\u001b[0m\u001b[0;34m.\u001b[0m\u001b[0m_forward_hooks\u001b[0m\u001b[0;34m.\u001b[0m\u001b[0mvalues\u001b[0m\u001b[0;34m(\u001b[0m\u001b[0;34m)\u001b[0m\u001b[0;34m:\u001b[0m\u001b[0;34m\u001b[0m\u001b[0;34m\u001b[0m\u001b[0m\n\u001b[1;32m    534\u001b[0m             \u001b[0mhook_result\u001b[0m \u001b[0;34m=\u001b[0m \u001b[0mhook\u001b[0m\u001b[0;34m(\u001b[0m\u001b[0mself\u001b[0m\u001b[0;34m,\u001b[0m \u001b[0minput\u001b[0m\u001b[0;34m,\u001b[0m \u001b[0mresult\u001b[0m\u001b[0;34m)\u001b[0m\u001b[0;34m\u001b[0m\u001b[0;34m\u001b[0m\u001b[0m\n",
            "\u001b[0;32m/usr/local/lib/python3.6/dist-packages/torch/nn/modules/sparse.py\u001b[0m in \u001b[0;36mforward\u001b[0;34m(self, input)\u001b[0m\n\u001b[1;32m    112\u001b[0m         return F.embedding(\n\u001b[1;32m    113\u001b[0m             \u001b[0minput\u001b[0m\u001b[0;34m,\u001b[0m \u001b[0mself\u001b[0m\u001b[0;34m.\u001b[0m\u001b[0mweight\u001b[0m\u001b[0;34m,\u001b[0m \u001b[0mself\u001b[0m\u001b[0;34m.\u001b[0m\u001b[0mpadding_idx\u001b[0m\u001b[0;34m,\u001b[0m \u001b[0mself\u001b[0m\u001b[0;34m.\u001b[0m\u001b[0mmax_norm\u001b[0m\u001b[0;34m,\u001b[0m\u001b[0;34m\u001b[0m\u001b[0;34m\u001b[0m\u001b[0m\n\u001b[0;32m--> 114\u001b[0;31m             self.norm_type, self.scale_grad_by_freq, self.sparse)\n\u001b[0m\u001b[1;32m    115\u001b[0m \u001b[0;34m\u001b[0m\u001b[0m\n\u001b[1;32m    116\u001b[0m     \u001b[0;32mdef\u001b[0m \u001b[0mextra_repr\u001b[0m\u001b[0;34m(\u001b[0m\u001b[0mself\u001b[0m\u001b[0;34m)\u001b[0m\u001b[0;34m:\u001b[0m\u001b[0;34m\u001b[0m\u001b[0;34m\u001b[0m\u001b[0m\n",
            "\u001b[0;32m/usr/local/lib/python3.6/dist-packages/torch/nn/functional.py\u001b[0m in \u001b[0;36membedding\u001b[0;34m(input, weight, padding_idx, max_norm, norm_type, scale_grad_by_freq, sparse)\u001b[0m\n\u001b[1;32m   1467\u001b[0m         \u001b[0;32mif\u001b[0m \u001b[0mpadding_idx\u001b[0m \u001b[0;34m>\u001b[0m \u001b[0;36m0\u001b[0m\u001b[0;34m:\u001b[0m\u001b[0;34m\u001b[0m\u001b[0;34m\u001b[0m\u001b[0m\n\u001b[1;32m   1468\u001b[0m             \u001b[0mprint\u001b[0m\u001b[0;34m(\u001b[0m\u001b[0;34m\"Padding\"\u001b[0m\u001b[0;34m,\u001b[0m\u001b[0mpadding_idx\u001b[0m\u001b[0;34m)\u001b[0m\u001b[0;34m\u001b[0m\u001b[0;34m\u001b[0m\u001b[0m\n\u001b[0;32m-> 1469\u001b[0;31m             \u001b[0;32massert\u001b[0m \u001b[0mpadding_idx\u001b[0m \u001b[0;34m<\u001b[0m \u001b[0mweight\u001b[0m\u001b[0;34m.\u001b[0m\u001b[0msize\u001b[0m\u001b[0;34m(\u001b[0m\u001b[0;36m0\u001b[0m\u001b[0;34m)\u001b[0m\u001b[0;34m,\u001b[0m \u001b[0;34m'Padding_idx must be within num_embeddings'\u001b[0m\u001b[0;34m\u001b[0m\u001b[0;34m\u001b[0m\u001b[0m\n\u001b[0m\u001b[1;32m   1470\u001b[0m         \u001b[0;32melif\u001b[0m \u001b[0mpadding_idx\u001b[0m \u001b[0;34m<\u001b[0m \u001b[0;36m0\u001b[0m\u001b[0;34m:\u001b[0m\u001b[0;34m\u001b[0m\u001b[0;34m\u001b[0m\u001b[0m\n\u001b[1;32m   1471\u001b[0m             \u001b[0;32massert\u001b[0m \u001b[0mpadding_idx\u001b[0m \u001b[0;34m>=\u001b[0m \u001b[0;34m-\u001b[0m\u001b[0mweight\u001b[0m\u001b[0;34m.\u001b[0m\u001b[0msize\u001b[0m\u001b[0;34m(\u001b[0m\u001b[0;36m0\u001b[0m\u001b[0;34m)\u001b[0m\u001b[0;34m,\u001b[0m \u001b[0;34m'Padding_idx must be within num_embeddings'\u001b[0m\u001b[0;34m\u001b[0m\u001b[0;34m\u001b[0m\u001b[0m\n",
            "\u001b[0;31mAssertionError\u001b[0m: Padding_idx must be within num_embeddings"
          ]
        }
      ]
    },
    {
      "cell_type": "code",
      "metadata": {
        "id": "FuUK22oDP-sh",
        "colab_type": "code",
        "colab": {}
      },
      "source": [
        "os.chdir('./data/transg/')\n",
        "# os.getcwd()"
      ],
      "execution_count": 0,
      "outputs": []
    },
    {
      "cell_type": "code",
      "metadata": {
        "id": "amm7og7hB49w",
        "colab_type": "code",
        "colab": {}
      },
      "source": [
        "relation_embedding = nn.Embedding(num_embeddings=9 + 1, embedding_dim=50, padding_idx=9)\n",
        "rel_weights_dict= {}\n",
        "pretrained_relation_weights = []\n",
        "for rel in rel_clusters:\n",
        "  rel_weights_dict[rel] = get_rel_embeddings(rel)\n",
        "  pretrained_relation_weights.append(rel_weights_dict[rel])\n",
        "\n",
        "pretrained_relation_weights = torch.FloatTensor(pretrained_relation_weights)  \n",
        "relation_embedding.weight = nn.Parameter(pretrained_relation_weights)\n",
        "relation_embedding.weight.requires_grad = False\n"
      ],
      "execution_count": 0,
      "outputs": []
    },
    {
      "cell_type": "code",
      "metadata": {
        "id": "Cw2E695sXnOX",
        "colab_type": "code",
        "colab": {}
      },
      "source": [
        "relation_embedding(4)"
      ],
      "execution_count": 0,
      "outputs": []
    },
    {
      "cell_type": "code",
      "metadata": {
        "id": "Leuef8LhX53u",
        "colab_type": "code",
        "colab": {}
      },
      "source": [
        "len(vocab_ids)"
      ],
      "execution_count": 0,
      "outputs": []
    },
    {
      "cell_type": "code",
      "metadata": {
        "id": "6AjDDcbfaz1f",
        "colab_type": "code",
        "colab": {}
      },
      "source": [
        ""
      ],
      "execution_count": 0,
      "outputs": []
    }
  ]
}