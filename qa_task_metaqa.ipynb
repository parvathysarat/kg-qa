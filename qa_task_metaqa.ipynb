{
  "nbformat": 4,
  "nbformat_minor": 0,
  "metadata": {
    "colab": {
      "name": "qa_task_metaqa.ipynb",
      "provenance": [],
      "collapsed_sections": [],
      "authorship_tag": "ABX9TyM7+SZjzOALSi9g4y6PzvUh",
      "include_colab_link": true
    },
    "kernelspec": {
      "name": "python3",
      "display_name": "Python 3"
    }
  },
  "cells": [
    {
      "cell_type": "markdown",
      "metadata": {
        "id": "view-in-github",
        "colab_type": "text"
      },
      "source": [
        "<a href=\"https://colab.research.google.com/github/parvathysarat/kg-qa/blob/master/qa_task_metaqa.ipynb\" target=\"_parent\"><img src=\"https://colab.research.google.com/assets/colab-badge.svg\" alt=\"Open In Colab\"/></a>"
      ]
    },
    {
      "cell_type": "markdown",
      "metadata": {
        "id": "aCRC0sIwYVHZ",
        "colab_type": "text"
      },
      "source": [
        "Size of our transG embeddings : 50"
      ]
    },
    {
      "cell_type": "code",
      "metadata": {
        "id": "rzRsTFNQh-DV",
        "colab_type": "code",
        "colab": {}
      },
      "source": [
        "import numpy as np\n",
        "import torch\n",
        "import torch.nn as nn\n",
        "from torch.autograd import Variable\n",
        "import torch.optim as optim\n",
        "import os\n",
        "import time, datetime\n",
        "import sys\n",
        "import json\n",
        "import os"
      ],
      "execution_count": 0,
      "outputs": []
    },
    {
      "cell_type": "code",
      "metadata": {
        "id": "AYox1XsCTpyK",
        "colab_type": "code",
        "colab": {
          "base_uri": "https://localhost:8080/",
          "height": 118
        },
        "outputId": "a79eaa16-68b3-448e-f6cc-0aeaa94cd4ae"
      },
      "source": [
        "!git clone https://github.com/parvathysarat/kg-qa\n",
        "# ./kg-qa/data/transg/ has the embeddings obtained by TransG for MetaQA dataset"
      ],
      "execution_count": 1,
      "outputs": [
        {
          "output_type": "stream",
          "text": [
            "Cloning into 'kg-qa'...\n",
            "remote: Enumerating objects: 46, done.\u001b[K\n",
            "remote: Counting objects: 100% (46/46), done.\u001b[K\n",
            "remote: Compressing objects: 100% (42/42), done.\u001b[K\n",
            "remote: Total 46 (delta 16), reused 16 (delta 2), pack-reused 0\u001b[K\n",
            "Unpacking objects: 100% (46/46), done.\n"
          ],
          "name": "stdout"
        }
      ]
    },
    {
      "cell_type": "code",
      "metadata": {
        "id": "GZqYMyp9W5jp",
        "colab_type": "code",
        "colab": {}
      },
      "source": [
        "os.chdir('./kg-qa/data/transg/')"
      ],
      "execution_count": 0,
      "outputs": []
    },
    {
      "cell_type": "code",
      "metadata": {
        "id": "UpBbREXgX8PZ",
        "colab_type": "code",
        "colab": {}
      },
      "source": [
        "import glob\n",
        "import shutil\n",
        "for file in glob.glob('./kg-qa/data/*.txt'):\n",
        "  shutil.move(file,'./kg-qa/data/transg/')"
      ],
      "execution_count": 0,
      "outputs": []
    },
    {
      "cell_type": "code",
      "metadata": {
        "id": "6m4GwmKLsASk",
        "colab_type": "code",
        "colab": {
          "base_uri": "https://localhost:8080/",
          "height": 50
        },
        "outputId": "757f448c-246a-4191-abd6-9697541f1d5f"
      },
      "source": [
        "# entities.txt from MetaQa : list of entities\n",
        "\n",
        "def get_entities_relns():\n",
        "  with open('../MetaQA/entities.txt') as f:\n",
        "    entities = {id:line[:-1] for id,line in enumerate(f)}\n",
        "    print(len(entities),entities[0])\n",
        "  with open('../MetaQA/relations.txt') as f:\n",
        "    relations = {id:line[:-1] for id,line in enumerate(f)}\n",
        "    print(len(relations),relations[0])\n",
        "    return entities, relations    \n",
        "  \n",
        "entities, relations = get_entities_relns()"
      ],
      "execution_count": 112,
      "outputs": [
        {
          "output_type": "stream",
          "text": [
            "43234 Kismet\n",
            "9 has_imdb_rating\n"
          ],
          "name": "stdout"
        }
      ]
    },
    {
      "cell_type": "code",
      "metadata": {
        "id": "AAp61DouYBYK",
        "colab_type": "code",
        "colab": {}
      },
      "source": [
        "# entity.txt storing TransG embeddings of MetaQA\n",
        "\n",
        "def get_num_entity(param='num'):\n",
        "   with open('entity.txt') as f:\n",
        "    if param=='num':\n",
        "      return sum([1 for line in f])\n",
        "    if param=='weights':\n",
        "      arr = []\n",
        "      weights_dict = {}\n",
        "      ct=0\n",
        "      for line in f:\n",
        "        entity = entities[ct]\n",
        "        ct+=1\n",
        "        for idx,el in enumerate(line.split()):\n",
        "          # numeric entities are not vectorized\n",
        "          if el.isnumeric() and idx==0: \n",
        "            continue\n",
        "\n",
        "          if (' '.join(line.split()[:idx]))==entity:\n",
        "            arr.append(np.array(line.split()[idx:],dtype=np.float32))\n",
        "            weights_dict[entity] = np.array(line.split()[idx:],dtype=np.float32)\n",
        "            break\n",
        "      print(len(weights_dict),ct)\n",
        "    pretrained_weights = torch.FloatTensor(arr)  \n",
        "    return weights_dict, pretrained_weights\n",
        "num_entities = get_num_entity()"
      ],
      "execution_count": 0,
      "outputs": []
    },
    {
      "cell_type": "code",
      "metadata": {
        "id": "x8sFJIZ5gQAU",
        "colab_type": "code",
        "colab": {
          "base_uri": "https://localhost:8080/",
          "height": 34
        },
        "outputId": "8a00ae2c-653a-4766-932a-c6a34e7885fd"
      },
      "source": [
        "num_entities = get_num_entity()\n",
        "entity_weights_dict, pretrained_entity_weights = get_num_entity('weights')"
      ],
      "execution_count": 113,
      "outputs": [
        {
          "output_type": "stream",
          "text": [
            "43232 43234\n"
          ],
          "name": "stdout"
        }
      ]
    },
    {
      "cell_type": "code",
      "metadata": {
        "id": "Opl7WYWljrIJ",
        "colab_type": "code",
        "colab": {}
      },
      "source": [
        "\n",
        "def initialize_embeddings(pretrained_weights):\n",
        "  embeddings = nn.Embedding.from_pretrained(pretrained_weights)  \n",
        "  # entity_embeddings = nn.Embedding(num_embeddings=num_entities+1, embedding_dim=50,padding_idx=num_entities)\n",
        "  # entity_embeddings.weight = nn.Parameter(get_num_entity('weights'))\n",
        "  embeddings.weight.requires_grad = False  \n",
        "  return embeddings\n",
        "entity_embeddings = initialize_embeddings(pretrained_entity_weights)"
      ],
      "execution_count": 0,
      "outputs": []
    },
    {
      "cell_type": "code",
      "metadata": {
        "id": "r83DPFNQyl1h",
        "colab_type": "code",
        "colab": {
          "base_uri": "https://localhost:8080/",
          "height": 34
        },
        "outputId": "72b6e481-342e-4f7c-825b-e9785b5e8c6f"
      },
      "source": [
        "entity_embeddings"
      ],
      "execution_count": 115,
      "outputs": [
        {
          "output_type": "execute_result",
          "data": {
            "text/plain": [
              "Embedding(43232, 50)"
            ]
          },
          "metadata": {
            "tags": []
          },
          "execution_count": 115
        }
      ]
    },
    {
      "cell_type": "code",
      "metadata": {
        "id": "llPzkMmuzRib",
        "colab_type": "code",
        "colab": {}
      },
      "source": [
        "# function to return the cluster number for each relation\n",
        "# (n_cluster # of embeddings for each relation from TransG based on GMM)\n",
        "\n",
        "def get_relations_clust():\n",
        "  relations_cluster = {}\n",
        "  with open('weight.txt') as f:\n",
        "    for line in f:\n",
        "      relations_cluster[line.split()[0]] = np.argmax(np.array(line.split()[1:], dtype = np.float32))\n",
        "  return relations_cluster\n",
        "rel_clusters = get_relations_clust()"
      ],
      "execution_count": 0,
      "outputs": []
    },
    {
      "cell_type": "code",
      "metadata": {
        "id": "mo4VAGAZDYi8",
        "colab_type": "code",
        "colab": {
          "base_uri": "https://localhost:8080/",
          "height": 168
        },
        "outputId": "3a7b5047-4cb3-499b-9d34-fc9bae5c5bca"
      },
      "source": [
        "rel_clusters"
      ],
      "execution_count": 120,
      "outputs": [
        {
          "output_type": "execute_result",
          "data": {
            "text/plain": [
              "{'directed_by': 2,\n",
              " 'has_genre': 3,\n",
              " 'has_imdb_rating': 3,\n",
              " 'has_imdb_votes': 3,\n",
              " 'has_tags': 3,\n",
              " 'in_language': 2,\n",
              " 'release_year': 3,\n",
              " 'starred_actors': 2,\n",
              " 'written_by': 2}"
            ]
          },
          "metadata": {
            "tags": []
          },
          "execution_count": 120
        }
      ]
    },
    {
      "cell_type": "code",
      "metadata": {
        "id": "ptgBoI6_Dma1",
        "colab_type": "code",
        "colab": {}
      },
      "source": [
        "def get_rel_embeddings(relation):\n",
        "  with open('relation_'+relation+'.txt') as f:\n",
        "    for line in f:\n",
        "      if int(line[0])==rel_clusters[relation]:\n",
        "        return np.array(line.split()[1:],dtype=np.float32)\n",
        "\n",
        "rel_weights_dict= {}\n",
        "pretrained_relation_weights = []\n",
        "for rel in rel_clusters:\n",
        "  rel_weights_dict[rel] = get_rel_embeddings(rel)\n",
        "  pretrained_relation_weights.append(rel_weights_dict[rel])\n",
        "pretrained_relation_weights = torch.FloatTensor(pretrained_relation_weights)  "
      ],
      "execution_count": 0,
      "outputs": []
    },
    {
      "cell_type": "code",
      "metadata": {
        "id": "xCuKACBJI5rY",
        "colab_type": "code",
        "colab": {}
      },
      "source": [
        "relation_embeddings = initialize_embeddings(pretrained_relation_weights)"
      ],
      "execution_count": 0,
      "outputs": []
    },
    {
      "cell_type": "code",
      "metadata": {
        "id": "-GeKANMVJGIX",
        "colab_type": "code",
        "colab": {
          "base_uri": "https://localhost:8080/",
          "height": 34
        },
        "outputId": "d414b5e0-a07f-41e5-fbb7-26a660509d13"
      },
      "source": [
        "print(entity_embeddings,relation_embeddings)"
      ],
      "execution_count": 137,
      "outputs": [
        {
          "output_type": "stream",
          "text": [
            "Embedding(43232, 50) Embedding(9, 50)\n"
          ],
          "name": "stdout"
        }
      ]
    },
    {
      "cell_type": "code",
      "metadata": {
        "id": "tFFydLsjKW2f",
        "colab_type": "code",
        "colab": {}
      },
      "source": [
        ""
      ],
      "execution_count": 0,
      "outputs": []
    }
  ]
}