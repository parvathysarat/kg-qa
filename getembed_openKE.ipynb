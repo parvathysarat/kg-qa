{
  "nbformat": 4,
  "nbformat_minor": 0,
  "metadata": {
    "colab": {
      "name": "getembed_openKE.ipynb",
      "provenance": [],
      "collapsed_sections": [],
      "authorship_tag": "ABX9TyNfqKhohwiSR/gxtG2i4Rrh",
      "include_colab_link": true
    },
    "kernelspec": {
      "name": "python3",
      "display_name": "Python 3"
    },
    "accelerator": "GPU"
  },
  "cells": [
    {
      "cell_type": "markdown",
      "metadata": {
        "id": "view-in-github",
        "colab_type": "text"
      },
      "source": [
        "<a href=\"https://colab.research.google.com/github/parvathysarat/kg-qa/blob/master/getembed_openKE.ipynb\" target=\"_parent\"><img src=\"https://colab.research.google.com/assets/colab-badge.svg\" alt=\"Open In Colab\"/></a>"
      ]
    },
    {
      "cell_type": "markdown",
      "metadata": {
        "id": "zbVADRGnMkl2",
        "colab_type": "text"
      },
      "source": [
        "### Installation \n",
        "(see https://github.com/thunlp/OpenKE)\n",
        "\n",
        "$ cd OpenKE\n",
        "\n",
        "$ cd openke\n",
        "\n",
        "Compile C++ files\n",
        "\n",
        "$ bash make.sh\n",
        "\n",
        "Quick Start\n",
        "\n",
        "$ cd ../\n",
        "\n",
        "$ cp examples/train_transe_FB15K237.py ./\n",
        "\n",
        "$ python train_transe_FB15K237.py"
      ]
    },
    {
      "cell_type": "code",
      "metadata": {
        "id": "dm89CRJPMBfY",
        "colab_type": "code",
        "colab": {
          "base_uri": "https://localhost:8080/",
          "height": 134
        },
        "outputId": "ea8c6799-690a-4c17-9a01-f23d1c0f95d9"
      },
      "source": [
        " !git clone -b OpenKE-PyTorch https://github.com/thunlp/OpenKE"
      ],
      "execution_count": 1,
      "outputs": [
        {
          "output_type": "stream",
          "text": [
            "Cloning into 'OpenKE'...\n",
            "remote: Enumerating objects: 11, done.\u001b[K\n",
            "remote: Counting objects: 100% (11/11), done.\u001b[K\n",
            "remote: Compressing objects: 100% (9/9), done.\u001b[K\n",
            "remote: Total 1273 (delta 2), reused 6 (delta 2), pack-reused 1262\u001b[K\n",
            "Receiving objects: 100% (1273/1273), 287.72 MiB | 29.03 MiB/s, done.\n",
            "Resolving deltas: 100% (610/610), done.\n"
          ],
          "name": "stdout"
        }
      ]
    },
    {
      "cell_type": "code",
      "metadata": {
        "id": "EXf1R-MCMfKY",
        "colab_type": "code",
        "colab": {}
      },
      "source": [
        "import os\n",
        "os.chdir('OpenKE/openke')\n",
        "!bash make.sh"
      ],
      "execution_count": 0,
      "outputs": []
    },
    {
      "cell_type": "code",
      "metadata": {
        "id": "aFSSJF8PngsI",
        "colab_type": "code",
        "colab": {
          "base_uri": "https://localhost:8080/",
          "height": 34
        },
        "outputId": "374a5d70-5894-47dc-f292-3fcd549ff007"
      },
      "source": [
        "# Config.py placed in OpenKE folder"
      ],
      "execution_count": 81,
      "outputs": [
        {
          "output_type": "stream",
          "text": [
            "/content/OpenKE\n"
          ],
          "name": "stdout"
        }
      ]
    },
    {
      "cell_type": "code",
      "metadata": {
        "id": "o0wBVmK7guUf",
        "colab_type": "code",
        "colab": {
          "base_uri": "https://localhost:8080/",
          "height": 54
        },
        "outputId": "5e851ed9-0d0c-47fd-f9af-2b42f498fd50"
      },
      "source": [
        "!pip install config"
      ],
      "execution_count": 37,
      "outputs": [
        {
          "output_type": "stream",
          "text": [
            "Requirement already satisfied: config in /usr/local/lib/python3.6/dist-packages (0.5.0.post0)\n"
          ],
          "name": "stdout"
        }
      ]
    },
    {
      "cell_type": "code",
      "metadata": {
        "id": "FvUiw62JNG3X",
        "colab_type": "code",
        "colab": {}
      },
      "source": [
        "import glob\n",
        "import numpy as np\n",
        "import Config\n",
        "con = Config.Config()\n",
        "\n",
        "#Input training files from benchmarks/train/ folder.\n",
        "con.set_in_path(\"./benchmarks/train/\")\n",
        "print(os.getcwd())\n",
        "\n",
        "# con.set_work_threads(4)\n",
        "con.set_train_times(500)\n",
        "con.set_nbatches(100)\n",
        "con.set_alpha(0.001)\n",
        "con.set_margin(1.0)\n",
        "con.set_bern(0)\n",
        "con.set_dimension(50)\n",
        "con.set_ent_neg_rate(1)\n",
        "con.set_rel_neg_rate(0)\n",
        "con.set_opt_method(\"SGD\")\n",
        "\n",
        "\n",
        "#Models will be exported via torch.save() automatically.\n",
        "con.set_export_files(\"model.vec.pt\")\n",
        "#Model parameters will be exported to json files automatically.\n",
        "con.set_out_files(\"embedding.vec.json\")\n",
        "#Initialize experimental settings.\n",
        "con.init()\n",
        "#Set the knowledge embedding model\n",
        "con.set_model(models.TransE)\n",
        "#Train the model.\n",
        "con.run()"
      ],
      "execution_count": 0,
      "outputs": []
    }
  ]
}