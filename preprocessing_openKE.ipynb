{
  "nbformat": 4,
  "nbformat_minor": 0,
  "metadata": {
    "colab": {
      "name": "preprocessing_openKE.ipynb",
      "provenance": [],
      "authorship_tag": "ABX9TyNY9HjNKlVMTYdti+HvASvk",
      "include_colab_link": true
    },
    "kernelspec": {
      "name": "python3",
      "display_name": "Python 3"
    }
  },
  "cells": [
    {
      "cell_type": "markdown",
      "metadata": {
        "id": "view-in-github",
        "colab_type": "text"
      },
      "source": [
        "<a href=\"https://colab.research.google.com/github/parvathysarat/kg-qa/blob/master/preprocessing_openKE.ipynb\" target=\"_parent\"><img src=\"https://colab.research.google.com/assets/colab-badge.svg\" alt=\"Open In Colab\"/></a>"
      ]
    },
    {
      "cell_type": "markdown",
      "metadata": {
        "id": "crQTV1kbA6S4",
        "colab_type": "text"
      },
      "source": [
        "## Preparing MetaQA for OpenKE "
      ]
    },
    {
      "cell_type": "markdown",
      "metadata": {
        "id": "GcFOPGWaBIud",
        "colab_type": "text"
      },
      "source": [
        "\n",
        "For training, datasets contain three files:\n",
        " \t\n",
        "1. train2id.txt: training file, the first line is the number of triples for training. Then the follow lines are all in the format (e1, e2, rel).\n",
        "2. entity2id.txt: all entities and corresponding ids, one per line. The first line is the number of entities.\n",
        "3. relation2id.txt: all relations and corresponding ids, one per line. The first line is the number of relations.\n",
        "\n",
        "### Preparing train2id.txt"
      ]
    },
    {
      "cell_type": "code",
      "metadata": {
        "id": "eQdtkjUvBdAf",
        "colab_type": "code",
        "colab": {}
      },
      "source": [
        "with open('kb.txt') as f:\n",
        "  n_triples = sum(1 for line in f)\n",
        "  \n",
        "with open('train2id.txt','w') as out:\n",
        "  with open('kb.txt') as f:\n",
        "    out.write(str(n_triples)+'\\n')\n",
        "    for line in f:\n",
        "      triple = (line.split('|')[0],line.split('|')[1],line.split('|')[2][:-1])\n",
        "      out.write(str(triple)+'\\n')\n"
      ],
      "execution_count": 0,
      "outputs": []
    },
    {
      "cell_type": "markdown",
      "metadata": {
        "id": "FJCj-Pz0EQtI",
        "colab_type": "text"
      },
      "source": [
        "### Preparing entity2id.txt"
      ]
    },
    {
      "cell_type": "code",
      "metadata": {
        "id": "8cd79c4dAxDi",
        "colab_type": "code",
        "colab": {}
      },
      "source": [
        "with open('kb_entity_dict.txt') as f:\n",
        "  n_entities = sum(1 for line in f)\n",
        "  \n",
        "with open('entity2id.txt','w') as out:\n",
        "  out.write(str(n_entities)+'\\n')\n",
        "  with open('kb_entity_dict.txt') as f:\n",
        "    for line in f:\n",
        "      out.write(line.split()[1]+'\\t'+line.split()[0]+'\\n')\n",
        "\n",
        "\n",
        "from google.colab import files\n",
        "files.download('train2id.txt')"
      ],
      "execution_count": 0,
      "outputs": []
    },
    {
      "cell_type": "code",
      "metadata": {
        "id": "xQGUePRWDMVA",
        "colab_type": "code",
        "colab": {}
      },
      "source": [
        "files.download('entity2id.txt')"
      ],
      "execution_count": 0,
      "outputs": []
    },
    {
      "cell_type": "markdown",
      "metadata": {
        "id": "h7PFo0fuF_KC",
        "colab_type": "text"
      },
      "source": [
        "### Preparing relation2id.txt"
      ]
    },
    {
      "cell_type": "code",
      "metadata": {
        "id": "ExzsRnLgGCCD",
        "colab_type": "code",
        "colab": {}
      },
      "source": [
        "with open('relations.txt') as f:\n",
        "  n_relations = sum(1 for line in f)\n",
        "  \n",
        "with open('relation2id.txt','w') as out:\n",
        "  out.write(str(n_relations)+'\\n')\n",
        "  with open('relations.txt') as f:\n",
        "    ct=0\n",
        "    for line in f:\n",
        "      out.write(line+'\\t'+str(ct)+'\\n')\n",
        "      ct+=1\n",
        "files.download('relation2id.txt')"
      ],
      "execution_count": 0,
      "outputs": []
    },
    {
      "cell_type": "code",
      "metadata": {
        "id": "3mXvPExcG7bL",
        "colab_type": "code",
        "colab": {}
      },
      "source": [
        ""
      ],
      "execution_count": 0,
      "outputs": []
    }
  ]
}