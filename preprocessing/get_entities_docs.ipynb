{
  "nbformat": 4,
  "nbformat_minor": 0,
  "metadata": {
    "colab": {
      "name": "get_entities_docs.ipynb",
      "provenance": [],
      "collapsed_sections": [],
      "authorship_tag": "ABX9TyN0f2Y0xf8l2mbi4/gsYcUi",
      "include_colab_link": true
    },
    "kernelspec": {
      "name": "python3",
      "display_name": "Python 3"
    }
  },
  "cells": [
    {
      "cell_type": "markdown",
      "metadata": {
        "id": "view-in-github",
        "colab_type": "text"
      },
      "source": [
        "<a href=\"https://colab.research.google.com/github/parvathysarat/kg-qa/blob/master/get_entities_docs.ipynb\" target=\"_parent\"><img src=\"https://colab.research.google.com/assets/colab-badge.svg\" alt=\"Open In Colab\"/></a>"
      ]
    },
    {
      "cell_type": "code",
      "metadata": {
        "id": "S45jbYSf7mEA",
        "colab_type": "code",
        "colab": {}
      },
      "source": [
        "import json\n",
        "import re \n",
        "from tqdm import tqdm\n",
        "# entity mapped to document (ids) that contain the entities.\n",
        "# entityid : [docid, docid, docid] etc"
      ],
      "execution_count": 0,
      "outputs": []
    },
    {
      "cell_type": "code",
      "metadata": {
        "id": "roU66vgp9u5w",
        "colab_type": "code",
        "colab": {}
      },
      "source": [
        "with open(\"qa_train.txt\") as file:\n",
        "  questions, answers = [], []\n",
        "  for line in file:\n",
        "    questions.append(line.split('\\t')[0])\n",
        "    answers.append(line.split('\\t')[1].split('|'))\n",
        "# if multiple answers convert them into a list --- answers list of lists\n",
        "\n",
        "questions = [re.sub(r'[^a-zA-Z0-9]',' ',each) for each in questions]"
      ],
      "execution_count": 0,
      "outputs": []
    },
    {
      "cell_type": "code",
      "metadata": {
        "id": "sm5w7112gMgt",
        "colab_type": "code",
        "colab": {}
      },
      "source": [
        "def question_extract(question):\n",
        "  \n",
        "  with open(\"kb_entity_dict.txt\", \"r\") as f:\n",
        "    entities, ids =[], []\n",
        "    for line in f:\n",
        "      entities.append(line.split('\\t')[1][:-1])\n",
        "      ids.append(line.split('\\t')[0])\n",
        "  kb_entity_dict = dict(zip(entities,ids))  \n",
        "  entities = [entity for entity in question.split() if entity in kb_entity_dict.keys()]\n",
        "  ids = [kb_entity_dict[entity] for entity in entities]\n",
        "  return entities,ids"
      ],
      "execution_count": 0,
      "outputs": []
    },
    {
      "cell_type": "code",
      "metadata": {
        "id": "XcQE_i9Hgx4s",
        "colab_type": "code",
        "outputId": "02bd8176-586c-4629-9590-8b5e0880b9d3",
        "colab": {
          "base_uri": "https://localhost:8080/",
          "height": 34
        }
      },
      "source": [
        "def get_entity_docs(entity_ids):\n",
        "  with open(\"entity_doc_mapping.json\") as f:\n",
        "    data = json.loads(f.read())  \n",
        "  \n",
        "  mapping = {id:data[id] for id in entity_ids}\n",
        "  print((mapping.keys()))\n",
        "  return mapping\n",
        "\n",
        "entities_docids = get_entity_docs(question_extract(\"What Kismet is this malayalam  clint eastwood\")[1])"
      ],
      "execution_count": 0,
      "outputs": [
        {
          "output_type": "stream",
          "text": [
            "dict_keys(['0', '9373'])\n"
          ],
          "name": "stdout"
        }
      ]
    },
    {
      "cell_type": "code",
      "metadata": {
        "id": "zSbLMeZUBax7",
        "colab_type": "code",
        "colab": {}
      },
      "source": [
        "list(entities_docs.values())"
      ],
      "execution_count": 0,
      "outputs": []
    },
    {
      "cell_type": "code",
      "metadata": {
        "id": "X1Cba7EswdIx",
        "colab_type": "code",
        "outputId": "2f302af5-69dc-4ad2-fa77-8061f9a43039",
        "colab": {
          "base_uri": "https://localhost:8080/",
          "height": 87
        }
      },
      "source": [
        "def get_docs(entities_docs):\n",
        "  wiki_file = \"processed_wiki.json\"\n",
        "  docs = {}\n",
        "  with open(wiki_file,encoding='utf-8') as file:\n",
        "    for line in tqdm(file):\n",
        "      line = json.loads(line.strip())\n",
        "      for entity,doc_ids in entities_docs.items():  \n",
        "\n",
        "        if line[\"documentId\"] in doc_ids:\n",
        "          try:docs[entity].append(line[\"document\"][\"text\"])\n",
        "          except:docs[entity] = [line[\"document\"][\"text\"]]\n",
        "  return docs\n",
        "\n",
        "entities_docs = get_docs(entities_docids)\n",
        "  "
      ],
      "execution_count": 0,
      "outputs": [
        {
          "output_type": "stream",
          "text": [
            "79728it [00:01, 57377.90it/s]"
          ],
          "name": "stderr"
        },
        {
          "output_type": "stream",
          "text": [
            "{'9373': [\"it was followed by `` for a few dollars more '' ( 1965 ) and `` the good , the bad and the ugly '' ( 1966 ) , also starring eastwood .\", \"in the united states , the united artists publicity campaign referred to eastwood 's character in all three films as the `` man with no name '' .\", \"eastwood 's character also helped popularize the .44 magnum , as harry callahan is famously shown wielding his smith & wesson model 29 revolver .\", \"ted post , who also directed eastwood in the television series `` rawhide '' and the feature film `` hang 'em high '' , directed the film , the second in the `` dirty harry '' series .\", 'the film stars eastwood along with charlie sheen , raúl juliá , sônia braga , lara flynn boyle and tom skerritt .', 'eastwood plays a veteran police officer teamed up with a younger detective played by sheen ( the rookie of the title ) , whose intent is to take down a german crime lord in downtown los angeles following months of investigation into his illegal activities .', \"the film marks the third of five collaborations between siegel and eastwood , following `` coogan 's bluff '' ( 1968 ) and `` two mules for sister sara '' ( 1970 ) , and continuing with `` dirty harry '' ( 1971 ) and `` escape from alcatraz '' ( 1979 ) .\", 'the film stars eastwood and meryl streep .', \"the film features a large hmong american cast , as well as one of eastwood 's younger sons , scott eastwood .\", \"eastwood 's oldest son , kyle eastwood , provided the score .\", \"`` gran torino '' was a critical and commercial success , grossing nearly $ 270 million worldwide ( making it eastwood 's most successful film to date ) .\", 'the character played by eastwood was awarded the medal of honor for his heroic actions there .', 'eastwood also stars in the film as a journalist covering the execution of a death row inmate , only to discover that the convict may actually be innocent .', 'the pairing of eastwood and reynolds was thought to have the potential to be a major hit but the film earned only $ 38.3 million at the box office , a profit of $ 13.3 million on its $ 25 million budget .', 'eastwood won the future film festival digital award at the venice film festival .', 'eastwood co-stars as a texas ranger in pursuit of the convict .', 'it was written by trent carlson and blake corbet and directed by trent carlson , and produced by blake corbet , andrew currie and kevin eastwood .', \"eastwood 's character is the sole active-duty secret service agent remaining from the detail guarding john f. kennedy in dallas , texas , at the time of his assassination in 1963 .\", \"eastwood and petersen also originally offered the role of leary to robert de niro , who turned it down due to scheduling conflicts with `` a bronx tale '' .\", \"`` in the line of fire '' was the final film eastwood starred in that he did not direct by himself until 2012 's `` trouble with the curve '' .\", \"this was eastwood 's first acting project since 2008 's `` gran torino '' and his first acting role in a film he did not direct since his cameo in 1995 's `` casper '' .\", 'a dark western that deals frankly with the uglier aspects of violence and how easily complicated truths are distorted into simplistic myths about the old west , it stars eastwood in the lead role , with gene hackman , morgan freeman , and richard harris .', \"eastwood has stated that this would be his last western for fear of repeating himself or imitating someone else 's work .\", 'eastwood dedicated the movie to deceased directors and mentors don siegel and sergio leone .', \"eastwood was nominated for the academy award for best actor for his performance , but he lost to al pacino for `` scent of a woman '' .\", \"the film marks the first of five collaborations between siegel and eastwood , which continued with `` two mules for sister sara '' ( 1970 ) , `` the beguiled '' and `` dirty harry '' ( both 1971 ) , and finally `` escape from alcatraz '' ( 1979 ) .\", 'eastwood plays the part of a young veteran deputy sheriff from a rural county in arizona who travels to new york city to extradite an apprehended fugitive named jimmy ringerman , played by stroud , who is wanted for murder .', 'in the film , eastwood plays the role of a radio jockey being stalked by an obsessed female fan .', \"this movie bears a striking similarity to the classic western `` shane '' , as well as similarities to eastwood 's earlier film `` high plains drifter '' .\", \"though the film was set in russia , authentic filming locations were not possible due to the cold war , forcing eastwood 's and fritz manes 's malpaso company to rely on vienna and other locations in austria to double for many of the eurasian story locations .\", \"this film is taken from the american viewpoint of the battle for iwo jima , while the sequel , `` letters from iwo jima '' , which eastwood also directed , is from the japanese viewpoint of the battle .\", \"it stars eastwood , tommy lee jones , donald sutherland , and james garner as four older `` ex-test pilots '' who are sent into space to repair an old soviet satellite , unaware that it is armed with nuclear missiles .\", 'the forger is a light-drama film about art forgery , released in 2012 starring lauren bacall , alfred molina , dina eastwood , hayden panettiere and josh hutcherson .', \"the film marked the second of five collaborations between siegel and eastwood , following `` coogan 's bluff '' ( 1968 ) .\", 'eastwood plays a laconic and enigmatic figure , who metes out justice in a corrupt frontier mining town where he arrives as a stranger .', \"the film was influenced by the work of eastwood 's two major collaborators , film directors sergio leone and don siegel .\", \"`` hang 'em high '' was the first production of the malpaso company , eastwood 's production company .\", 'morgan sold the script on spec to dreamworks in 2008 , but it transferred to warner bros. by the time eastwood ( who has a long-standing relationship with warner bros. ) had signed on to direct in 2009 .', \"the film marks the fifth and final collaboration between siegel and eastwood , following `` coogan 's bluff '' ( 1968 ) , `` two mules for sister sara '' ( 1970 ) , `` the beguiled '' ( 1971 ) and `` dirty harry '' ( 1971 ) .\", \"the reporter , played by john cusack , was based upon berendt , but was given a love interest not featured in the book , played by eastwood 's daughter alison eastwood .\", \"the film was followed by four sequels : `` magnum force '' in 1973 , `` the enforcer '' in 1976 , `` sudden impact '' in 1983 ( directed by eastwood himself ) , and `` the dead pool '' in 1988 .\", 'the gauntlet is a 1977 american action film directed by clint eastwood , starring eastwood and sondra locke .', 'eastwood plays a down-and-out cop who falls in love with a prostitute ( locke ) whom he is assigned to escort from las vegas to phoenix in order for her to testify against the mob .', 'million dollar baby is a 2004 american sports drama film directed , co-produced , and scored by clint eastwood and starring eastwood , hilary swank , and morgan freeman .', \"sudden impact is a 1983 american action film and the fourth film in the `` dirty harry '' series , directed by clint eastwood ( making it the only `` dirty harry '' film to be directed by eastwood himself ) , and starring eastwood and sondra locke .\", 'it was produced by blake corbet , mary anne waterhouse , trent carlson and kevin eastwood of anagram pictures , and released in the united states by lions gate entertainment .', \"the main character is based on real-life director john huston ; at times , eastwood can be heard drawing out his vowels , speaking in huston 's distinctive style .\", 'it was directed by eastwood and written by dennis hackin .', \"the film portrays the battle of iwo jima from the perspective of the japanese soldiers and is a companion piece to eastwood 's `` flags of our fathers '' , which depicts the same battle from the american viewpoint ; the two films were shot back to back .\", 'ron howard had meant to direct the film , but scheduling conflicts led to his replacement by eastwood .', \"instead , howard and his imagine entertainment partner brian grazer produced `` changeling '' alongside malpaso productions ' robert lorenz and eastwood .\", \"several actors campaigned for the leading role ; ultimately , the key factor in eastwood 's decision to cast jolie was his feeling that her face would suit the 1920s period setting .\", \"eastwood 's low-key direction led actors and crew to note the calmness of the set and the short working days .\"], '0': ['kismet is a 1944 metro-goldwyn-mayer film in technicolor starring ronald colman , marlene dietrich , joy page , and florence bates .', 'james craig played the young caliph of baghdad , and edward arnold was the treacherous grand vizier .', 'it was directed by william dieterle , but was not a success at the box office .', 'the film is based on the play of the same name by edward knoblock , which was also the basis for a 1953 musical .', 'the play had been filmed three times before , in 1914 , 1920 , and again in 1930 by warner brothers in an english version directed by john francis dillon and in a german-language version directed by william dieterle .', \"spoofing movie detectives and the film noir style , the film features lon chaney , jr. playing willie , a character based on his `` of mice and men '' role lennie ; peter lorre as kismet , a comic take on his many film noir roles ; and cameo appearances by film noir regular alan ladd and hope partner bing crosby .\"]}\n"
          ],
          "name": "stdout"
        },
        {
          "output_type": "stream",
          "text": [
            "\n"
          ],
          "name": "stderr"
        }
      ]
    },
    {
      "cell_type": "code",
      "metadata": {
        "id": "CLSB6NDmBxpT",
        "colab_type": "code",
        "colab": {}
      },
      "source": [
        ""
      ],
      "execution_count": 0,
      "outputs": []
    }
  ]
}