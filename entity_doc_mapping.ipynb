{
  "nbformat": 4,
  "nbformat_minor": 0,
  "metadata": {
    "colab": {
      "name": "entity_doc_mapping.ipynb",
      "provenance": [],
      "authorship_tag": "ABX9TyM/o5eoPPFYVFVlNkQwdiUA",
      "include_colab_link": true
    },
    "kernelspec": {
      "name": "python3",
      "display_name": "Python 3"
    }
  },
  "cells": [
    {
      "cell_type": "markdown",
      "metadata": {
        "id": "view-in-github",
        "colab_type": "text"
      },
      "source": [
        "<a href=\"https://colab.research.google.com/github/parvathysarat/kg-qa/blob/master/entity_doc_mapping.ipynb\" target=\"_parent\"><img src=\"https://colab.research.google.com/assets/colab-badge.svg\" alt=\"Open In Colab\"/></a>"
      ]
    },
    {
      "cell_type": "code",
      "metadata": {
        "id": "A1I2YRyRLYnV",
        "colab_type": "code",
        "colab": {
          "base_uri": "https://localhost:8080/",
          "height": 34
        },
        "outputId": "a14691c8-43ec-43e1-bfc2-3777fc95c469"
      },
      "source": [
        "import json\n",
        "from tqdm import tqdm\n",
        "\n",
        "entity_index = {}\n",
        "def extract_entity(entity, doc_id):\n",
        "  kb_id = entity[\"kb_id\"]\n",
        "  if kb_id not in entity_index:\n",
        "    entity_index[kb_id] = set()\n",
        "  entity_index[kb_id].add(doc_id)\n",
        " \n",
        "\n",
        "def main():\n",
        "  \n",
        "  wiki_file = \"processed_wiki.json\"\n",
        "  with open(wiki_file,encoding='utf-8') as file:\n",
        "    for line in tqdm(file):\n",
        "      line = json.loads(line.strip())\n",
        "      doc_id = line[\"documentId\"]    \n",
        "      for entity in line[\"document\"][\"entities\"] :\n",
        "        extract_entity(entity, doc_id)\n",
        "      for entity in line[\"title\"][\"entities\"]:\n",
        "        extract_entity(entity, doc_id)\n",
        "  \n",
        "  for key, value in entity_index.items():\n",
        "    entity_index[key] = list(value)\n",
        "  \n",
        "  json.dump(entity_index, open(\"entity_doc_mapping.json\",\"w\"))\n",
        "  \n",
        "if __name__ == \"__main__\":\n",
        "  main()\n"
      ],
      "execution_count": 6,
      "outputs": [
        {
          "output_type": "stream",
          "text": [
            "79728it [00:02, 39800.53it/s]\n"
          ],
          "name": "stderr"
        }
      ]
    },
    {
      "cell_type": "code",
      "metadata": {
        "id": "EsNzWkL8L1jz",
        "colab_type": "code",
        "colab": {}
      },
      "source": [
        "from google.colab import files\n",
        "files.download(\"entity_doc_mapping.json\")"
      ],
      "execution_count": 0,
      "outputs": []
    },
    {
      "cell_type": "code",
      "metadata": {
        "id": "mn9ZC3umsEWc",
        "colab_type": "code",
        "colab": {}
      },
      "source": [
        ""
      ],
      "execution_count": 0,
      "outputs": []
    }
  ]
}